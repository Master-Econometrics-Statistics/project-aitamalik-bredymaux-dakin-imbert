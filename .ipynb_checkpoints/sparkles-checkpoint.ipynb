{
 "cells": [
  {
   "cell_type": "markdown",
   "id": "bb1c3fb4",
   "metadata": {},
   "source": [
    "# Data Exploration with Spark"
   ]
  },
  {
   "cell_type": "markdown",
   "id": "183e7089",
   "metadata": {},
   "source": [
    "### Imports"
   ]
  },
  {
   "cell_type": "code",
   "execution_count": 2,
   "id": "c6173c65",
   "metadata": {},
   "outputs": [],
   "source": [
    "import pandas as pd\n",
    "import matplotlib.pyplot as plt\n",
    "\n",
    "from pyspark.sql import SparkSession\n",
    "from pyspark.sql import functions as fn\n",
    "from pyspark.sql.types import FloatType, DateType\n",
    "\n",
    "from pyspark.ml.classification import DecisionTreeClassifier, LogisticRegression, GBTClassifier\n",
    "from pyspark.ml.evaluation import BinaryClassificationEvaluator\n",
    "from pyspark.ml import Pipeline\n",
    "from pyspark.ml.feature import VectorAssembler\n",
    "from sklearn.metrics import confusion_matrix\n",
    "\n",
    "spark = SparkSession.builder\\\n",
    "    .master(\"local[1]\")\\\n",
    "    .appName(\"big_data\")\\\n",
    "    .getOrCreate()\n",
    "\n",
    "\n",
    "%matplotlib inline"
   ]
  },
  {
   "cell_type": "markdown",
   "id": "7217ebf2",
   "metadata": {},
   "source": [
    "### Data"
   ]
  },
  {
   "cell_type": "code",
   "execution_count": 2,
   "id": "933bb9de",
   "metadata": {},
   "outputs": [],
   "source": [
    "df = spark.read\\\n",
    "    .option(\"header\", \"true\")\\\n",
    "    .option(\"delimiter\", \",\")\\\n",
    "    .csv(\"tracks.csv\")"
   ]
  },
  {
   "cell_type": "code",
   "execution_count": 3,
   "id": "87d7d3bb",
   "metadata": {},
   "outputs": [
    {
     "name": "stdout",
     "output_type": "stream",
     "text": [
      "root\n",
      " |-- id: string (nullable = true)\n",
      " |-- name: string (nullable = true)\n",
      " |-- popularity: string (nullable = true)\n",
      " |-- duration_ms: string (nullable = true)\n",
      " |-- explicit: string (nullable = true)\n",
      " |-- artists: string (nullable = true)\n",
      " |-- id_artists: string (nullable = true)\n",
      " |-- release_date: string (nullable = true)\n",
      " |-- danceability: string (nullable = true)\n",
      " |-- energy: string (nullable = true)\n",
      " |-- key: string (nullable = true)\n",
      " |-- loudness: string (nullable = true)\n",
      " |-- mode: string (nullable = true)\n",
      " |-- speechiness: string (nullable = true)\n",
      " |-- acousticness: string (nullable = true)\n",
      " |-- instrumentalness: string (nullable = true)\n",
      " |-- liveness: string (nullable = true)\n",
      " |-- valence: string (nullable = true)\n",
      " |-- tempo: string (nullable = true)\n",
      " |-- time_signature: string (nullable = true)\n",
      "\n",
      "+--------------------+--------------------+----------+-----------+--------+-------------------+--------------------+------------+------------+------+---+--------+----+-----------+------------+----------------+--------+-------+-------+--------------+\n",
      "|                  id|                name|popularity|duration_ms|explicit|            artists|          id_artists|release_date|danceability|energy|key|loudness|mode|speechiness|acousticness|instrumentalness|liveness|valence|  tempo|time_signature|\n",
      "+--------------------+--------------------+----------+-----------+--------+-------------------+--------------------+------------+------------+------+---+--------+----+-----------+------------+----------------+--------+-------+-------+--------------+\n",
      "|35iwgR4jXetI318WE...|               Carve|         6|     126903|       0|            ['Uli']|['45tIt06XoI0Iio4...|  1922-02-22|       0.645| 0.445|  0| -13.338|   1|      0.451|       0.674|           0.744|   0.151|  0.127|104.851|             3|\n",
      "|021ht4sdgPcrDgSk7...|Capítulo 2.16 - B...|         0|      98200|       0|['Fernando Pessoa']|['14jtPCOoNZwquk5...|  1922-06-01|       0.695| 0.263|  0| -22.136|   1|      0.957|       0.797|             0.0|   0.148|  0.655|102.009|             1|\n",
      "|07A5yehtSnoedViJA...|Vivo para Querert...|         0|     181640|       0|['Ignacio Corsini']|['5LiOoJbxVSAMkBS...|  1922-03-21|       0.434| 0.177|  1|  -21.18|   1|     0.0512|       0.994|          0.0218|   0.212|  0.457|130.418|             5|\n",
      "|08FmqUhxtyLTn6pAh...|El Prisionero - R...|         0|     176907|       0|['Ignacio Corsini']|['5LiOoJbxVSAMkBS...|  1922-03-21|       0.321|0.0946|  7| -27.961|   1|     0.0504|       0.995|           0.918|   0.104|  0.397| 169.98|             3|\n",
      "|08y9GfoqCWfOGsKdw...| Lady of the Evening|         0|     163080|       0|    ['Dick Haymes']|['3BiJGZsyX9sJchT...|        1922|       0.402| 0.158|  3|   -16.9|   0|      0.039|       0.989|            0.13|   0.311|  0.196| 103.22|             4|\n",
      "+--------------------+--------------------+----------+-----------+--------+-------------------+--------------------+------------+------------+------+---+--------+----+-----------+------------+----------------+--------+-------+-------+--------------+\n",
      "only showing top 5 rows\n",
      "\n"
     ]
    }
   ],
   "source": [
    "df.printSchema()\n",
    "df.show(n=5)"
   ]
  },
  {
   "cell_type": "markdown",
   "id": "eb16c5e7",
   "metadata": {},
   "source": [
    "## I. Data Cleaning"
   ]
  },
  {
   "cell_type": "markdown",
   "id": "4e8abc24",
   "metadata": {},
   "source": [
    "#### Convert some variables to Float"
   ]
  },
  {
   "cell_type": "code",
   "execution_count": 4,
   "id": "1526127e",
   "metadata": {},
   "outputs": [],
   "source": [
    "df = df.withColumn(\"danceability\", fn.col(\"danceability\").cast(FloatType()))\\\n",
    "    .withColumn(\"tempo\", fn.col(\"tempo\").cast(FloatType()))\\\n",
    "    .withColumn(\"loudness\", fn.col(\"loudness\").cast(FloatType()))\\\n",
    "    .withColumn(\"duration_ms\", fn.col(\"duration_ms\").cast(FloatType()))"
   ]
  },
  {
   "cell_type": "markdown",
   "id": "bc4120f8",
   "metadata": {},
   "source": [
    "#### Keep only interesting columns"
   ]
  },
  {
   "cell_type": "code",
   "execution_count": 5,
   "id": "a3d84ffe",
   "metadata": {},
   "outputs": [
    {
     "name": "stdout",
     "output_type": "stream",
     "text": [
      "root\n",
      " |-- id: string (nullable = true)\n",
      " |-- name: string (nullable = true)\n",
      " |-- popularity: string (nullable = true)\n",
      " |-- duration_ms: float (nullable = true)\n",
      " |-- artists: string (nullable = true)\n",
      " |-- release_date: string (nullable = true)\n",
      " |-- danceability: float (nullable = true)\n",
      " |-- loudness: float (nullable = true)\n",
      " |-- tempo: float (nullable = true)\n",
      "\n",
      "+--------------------+--------------------+----------+-----------+-------------------+------------+------------+--------+-------+\n",
      "|                  id|                name|popularity|duration_ms|            artists|release_date|danceability|loudness|  tempo|\n",
      "+--------------------+--------------------+----------+-----------+-------------------+------------+------------+--------+-------+\n",
      "|35iwgR4jXetI318WE...|               Carve|         6|   126903.0|            ['Uli']|  1922-02-22|       0.645| -13.338|104.851|\n",
      "|021ht4sdgPcrDgSk7...|Capítulo 2.16 - B...|         0|    98200.0|['Fernando Pessoa']|  1922-06-01|       0.695| -22.136|102.009|\n",
      "|07A5yehtSnoedViJA...|Vivo para Querert...|         0|   181640.0|['Ignacio Corsini']|  1922-03-21|       0.434|  -21.18|130.418|\n",
      "|08FmqUhxtyLTn6pAh...|El Prisionero - R...|         0|   176907.0|['Ignacio Corsini']|  1922-03-21|       0.321| -27.961| 169.98|\n",
      "|08y9GfoqCWfOGsKdw...| Lady of the Evening|         0|   163080.0|    ['Dick Haymes']|        1922|       0.402|   -16.9| 103.22|\n",
      "+--------------------+--------------------+----------+-----------+-------------------+------------+------------+--------+-------+\n",
      "only showing top 5 rows\n",
      "\n"
     ]
    }
   ],
   "source": [
    "df = df.select(\"id\", \"name\", \"popularity\", \"duration_ms\", \"artists\",\n",
    "          \"release_date\", \"danceability\", \"loudness\", \"tempo\")\n",
    "\n",
    "df.printSchema()\n",
    "df.show(n=5)"
   ]
  },
  {
   "cell_type": "markdown",
   "id": "6199fe24",
   "metadata": {},
   "source": [
    "#### Drop NAs"
   ]
  },
  {
   "cell_type": "code",
   "execution_count": 6,
   "id": "2562f976",
   "metadata": {},
   "outputs": [
    {
     "name": "stdout",
     "output_type": "stream",
     "text": [
      "df shape: 586672 rows and 9 columns\n"
     ]
    }
   ],
   "source": [
    "print(f\"df shape: {df.count()} rows and {len(df.columns)} columns\")"
   ]
  },
  {
   "cell_type": "code",
   "execution_count": 7,
   "id": "742925bb",
   "metadata": {},
   "outputs": [],
   "source": [
    "clean_df = df.na.drop()"
   ]
  },
  {
   "cell_type": "code",
   "execution_count": 8,
   "id": "5c754772",
   "metadata": {},
   "outputs": [
    {
     "name": "stdout",
     "output_type": "stream",
     "text": [
      "clean_df shape: 584116 rows and 9 columns\n"
     ]
    }
   ],
   "source": [
    "print(f\"clean_df shape: {clean_df.count()} rows and {len(clean_df.columns)} columns\")"
   ]
  },
  {
   "cell_type": "markdown",
   "id": "af8965b5",
   "metadata": {},
   "source": [
    "#### Dummy variable indicating if release date > 2000"
   ]
  },
  {
   "cell_type": "code",
   "execution_count": 9,
   "id": "af8827be",
   "metadata": {},
   "outputs": [
    {
     "name": "stdout",
     "output_type": "stream",
     "text": [
      "+--------------------+--------------------+----------+-----------+-------------------+------------+------------+--------+-------+----------+\n",
      "|                  id|                name|popularity|duration_ms|            artists|release_date|danceability|loudness|  tempo|after_1980|\n",
      "+--------------------+--------------------+----------+-----------+-------------------+------------+------------+--------+-------+----------+\n",
      "|35iwgR4jXetI318WE...|               Carve|         6|   126903.0|            ['Uli']|  1922-02-22|       0.645| -13.338|104.851|         0|\n",
      "|021ht4sdgPcrDgSk7...|Capítulo 2.16 - B...|         0|    98200.0|['Fernando Pessoa']|  1922-06-01|       0.695| -22.136|102.009|         0|\n",
      "|07A5yehtSnoedViJA...|Vivo para Querert...|         0|   181640.0|['Ignacio Corsini']|  1922-03-21|       0.434|  -21.18|130.418|         0|\n",
      "|08FmqUhxtyLTn6pAh...|El Prisionero - R...|         0|   176907.0|['Ignacio Corsini']|  1922-03-21|       0.321| -27.961| 169.98|         0|\n",
      "|08y9GfoqCWfOGsKdw...| Lady of the Evening|         0|   163080.0|    ['Dick Haymes']|        1922|       0.402|   -16.9| 103.22|         0|\n",
      "+--------------------+--------------------+----------+-----------+-------------------+------------+------------+--------+-------+----------+\n",
      "only showing top 5 rows\n",
      "\n"
     ]
    }
   ],
   "source": [
    "clean_df = clean_df.withColumn(\n",
    "    \"after_1980\",\n",
    "    fn.when(\n",
    "        (fn.col(\"release_date\") > 1980), 1\n",
    "    ).otherwise(0)\n",
    ")\n",
    "\n",
    "clean_df.show(n=5)"
   ]
  },
  {
   "cell_type": "markdown",
   "id": "f5fc4c06",
   "metadata": {},
   "source": [
    "#### Variable indicating the year"
   ]
  },
  {
   "cell_type": "code",
   "execution_count": 10,
   "id": "c21623c2",
   "metadata": {},
   "outputs": [
    {
     "name": "stdout",
     "output_type": "stream",
     "text": [
      "+--------------------+--------------------+----------+-----------+-------------------+------------+------------+--------+-------+----------+----+\n",
      "|                  id|                name|popularity|duration_ms|            artists|release_date|danceability|loudness|  tempo|after_1980|year|\n",
      "+--------------------+--------------------+----------+-----------+-------------------+------------+------------+--------+-------+----------+----+\n",
      "|35iwgR4jXetI318WE...|               Carve|         6|   126903.0|            ['Uli']|  1922-02-22|       0.645| -13.338|104.851|         0|1922|\n",
      "|021ht4sdgPcrDgSk7...|Capítulo 2.16 - B...|         0|    98200.0|['Fernando Pessoa']|  1922-06-01|       0.695| -22.136|102.009|         0|1922|\n",
      "|07A5yehtSnoedViJA...|Vivo para Querert...|         0|   181640.0|['Ignacio Corsini']|  1922-03-21|       0.434|  -21.18|130.418|         0|1922|\n",
      "|08FmqUhxtyLTn6pAh...|El Prisionero - R...|         0|   176907.0|['Ignacio Corsini']|  1922-03-21|       0.321| -27.961| 169.98|         0|1922|\n",
      "|08y9GfoqCWfOGsKdw...| Lady of the Evening|         0|   163080.0|    ['Dick Haymes']|        1922|       0.402|   -16.9| 103.22|         0|1922|\n",
      "+--------------------+--------------------+----------+-----------+-------------------+------------+------------+--------+-------+----------+----+\n",
      "only showing top 5 rows\n",
      "\n"
     ]
    }
   ],
   "source": [
    "clean_df = clean_df.withColumn(\n",
    "    \"year\",\n",
    "    fn.year(\"release_date\")\n",
    ")\n",
    "\n",
    "clean_df.show(n=5)"
   ]
  },
  {
   "cell_type": "markdown",
   "id": "5ddf9a4b",
   "metadata": {},
   "source": [
    "#### Dummy variable indicating if popularity is above 50"
   ]
  },
  {
   "cell_type": "code",
   "execution_count": 11,
   "id": "1cc3ad26",
   "metadata": {},
   "outputs": [
    {
     "name": "stdout",
     "output_type": "stream",
     "text": [
      "+--------------------+--------------------+----------+-----------+-------------------+------------+------------+--------+-------+----------+----+----------+\n",
      "|                  id|                name|popularity|duration_ms|            artists|release_date|danceability|loudness|  tempo|after_1980|year|popular_af|\n",
      "+--------------------+--------------------+----------+-----------+-------------------+------------+------------+--------+-------+----------+----+----------+\n",
      "|35iwgR4jXetI318WE...|               Carve|         6|   126903.0|            ['Uli']|  1922-02-22|       0.645| -13.338|104.851|         0|1922|         0|\n",
      "|021ht4sdgPcrDgSk7...|Capítulo 2.16 - B...|         0|    98200.0|['Fernando Pessoa']|  1922-06-01|       0.695| -22.136|102.009|         0|1922|         0|\n",
      "|07A5yehtSnoedViJA...|Vivo para Querert...|         0|   181640.0|['Ignacio Corsini']|  1922-03-21|       0.434|  -21.18|130.418|         0|1922|         0|\n",
      "|08FmqUhxtyLTn6pAh...|El Prisionero - R...|         0|   176907.0|['Ignacio Corsini']|  1922-03-21|       0.321| -27.961| 169.98|         0|1922|         0|\n",
      "|08y9GfoqCWfOGsKdw...| Lady of the Evening|         0|   163080.0|    ['Dick Haymes']|        1922|       0.402|   -16.9| 103.22|         0|1922|         0|\n",
      "+--------------------+--------------------+----------+-----------+-------------------+------------+------------+--------+-------+----------+----+----------+\n",
      "only showing top 5 rows\n",
      "\n"
     ]
    }
   ],
   "source": [
    "clean_df = clean_df.withColumn(\n",
    "    \"popular_af\",\n",
    "    fn.when(\n",
    "        (fn.col(\"popularity\") > 50), 1\n",
    "    ).otherwise(0)\n",
    ")\n",
    "\n",
    "clean_df.show(n=5)"
   ]
  },
  {
   "cell_type": "markdown",
   "id": "262797ec",
   "metadata": {},
   "source": [
    "#### Split into popular and unpopular (above or below 50)"
   ]
  },
  {
   "cell_type": "code",
   "execution_count": 12,
   "id": "722749d9",
   "metadata": {},
   "outputs": [
    {
     "name": "stdout",
     "output_type": "stream",
     "text": [
      "Number of popular hits: 69430\n"
     ]
    }
   ],
   "source": [
    "pop_df = clean_df.filter(clean_df.popularity > 50)\n",
    "\n",
    "print(f\"Number of popular hits: {pop_df.count()}\")"
   ]
  },
  {
   "cell_type": "code",
   "execution_count": 13,
   "id": "01ecd4a5",
   "metadata": {},
   "outputs": [
    {
     "name": "stdout",
     "output_type": "stream",
     "text": [
      "Number of UNpopular hits: 514065\n"
     ]
    }
   ],
   "source": [
    "unpop_df = clean_df.filter(clean_df.popularity <= 50)\n",
    "\n",
    "print(f\"Number of UNpopular hits: {unpop_df.count()}\")"
   ]
  },
  {
   "cell_type": "markdown",
   "id": "2bf22493",
   "metadata": {},
   "source": [
    "## II. Analysis"
   ]
  },
  {
   "cell_type": "markdown",
   "id": "c415c6de",
   "metadata": {},
   "source": [
    "### A) Popularity by Year"
   ]
  },
  {
   "cell_type": "code",
   "execution_count": 14,
   "id": "c3a563a8",
   "metadata": {},
   "outputs": [
    {
     "name": "stdout",
     "output_type": "stream",
     "text": [
      "Highest Average Popularity\n",
      "+----+--------------+--------------+------------------+\n",
      "|year|min_popularity|max_popularity|    avg_popularity|\n",
      "+----+--------------+--------------+------------------+\n",
      "|2019|             0|            94|44.910613584715094|\n",
      "|2020|             0|            97| 44.68210586881473|\n",
      "|2017|             0|             9| 42.22243615727604|\n",
      "|2018|             0|             9| 42.15595489135418|\n",
      "|2016|             0|             9| 39.29119536693512|\n",
      "+----+--------------+--------------+------------------+\n",
      "only showing top 5 rows\n",
      "\n",
      "Lowest Average Popularity\n",
      "+----+--------------+--------------+--------------------+\n",
      "|year|min_popularity|max_popularity|      avg_popularity|\n",
      "+----+--------------+--------------+--------------------+\n",
      "|1922|             0|             6|0.057971014492753624|\n",
      "|1929|             0|             9|  0.3431111111111111|\n",
      "|1924|             0|             9|  0.6129541864139021|\n",
      "|1927|             0|             9|  0.6532999164578112|\n",
      "|1934|             0|             9|  0.8070362473347548|\n",
      "+----+--------------+--------------+--------------------+\n",
      "only showing top 5 rows\n",
      "\n"
     ]
    }
   ],
   "source": [
    "popularity_by_year = clean_df.groupBy(\"year\").agg(\n",
    "    fn.min(\"popularity\").alias(\"min_popularity\"),\\\n",
    "    fn.max(\"popularity\").alias(\"max_popularity\"),\\\n",
    "    fn.mean(\"popularity\").alias(\"avg_popularity\")\n",
    ")\n",
    "\n",
    "print(\"Highest Average Popularity\")\n",
    "popularity_by_year.orderBy(\"avg_popularity\", ascending=False).show(5)\n",
    "\n",
    "print(\"Lowest Average Popularity\")\n",
    "popularity_by_year.orderBy(\"avg_popularity\", ascending=True).show(5)"
   ]
  },
  {
   "cell_type": "markdown",
   "id": "a9301847",
   "metadata": {},
   "source": [
    "#### We notice that 2019 is the year with the highest average song popularity while the worst is 1922.\n",
    "However, there seems to be a problem because there are many years where the max popularity is extremely low (around 9). This is not normal because it is hard to believe that years like 2017, 2018 or 2016 have a max popularity of 9. We consider this to be a problem in the computation of the popularity variable."
   ]
  },
  {
   "cell_type": "markdown",
   "id": "3d6406e1",
   "metadata": {},
   "source": [
    "### B) Artist Popularity"
   ]
  },
  {
   "cell_type": "code",
   "execution_count": 15,
   "id": "c1a1f9bc",
   "metadata": {
    "scrolled": false
   },
   "outputs": [
    {
     "name": "stdout",
     "output_type": "stream",
     "text": [
      "+--------------------+---------------+\n",
      "|             artists|sum(popularity)|\n",
      "+--------------------+---------------+\n",
      "|    ['Die drei ???']|       140705.0|\n",
      "|['TKKG Retro-Arch...|        58554.0|\n",
      "| ['Bibi Blocksberg']|        50096.0|\n",
      "|['Benjamin Blümch...|        42371.0|\n",
      "|   ['Bibi und Tina']|        32037.0|\n",
      "+--------------------+---------------+\n",
      "only showing top 5 rows\n",
      "\n",
      "+--------------------+---------------+\n",
      "|             artists|sum(popularity)|\n",
      "+--------------------+---------------+\n",
      "|['Xristos Kontopo...|            0.0|\n",
      "|   ['Kordt Sisters']|            0.0|\n",
      "|['Federico Mompou...|            0.0|\n",
      "|['Chuck Willis', ...|            0.0|\n",
      "|['Carl Maria von ...|            0.0|\n",
      "+--------------------+---------------+\n",
      "only showing top 5 rows\n",
      "\n"
     ]
    }
   ],
   "source": [
    "popularity_by_artists = clean_df.groupBy(\"artists\")\\\n",
    "    .agg({\"popularity\": \"sum\"})\\\n",
    "    .filter(fn.col(\"sum(popularity)\").isNotNull())\n",
    "\n",
    "popularity_by_artists.orderBy(\"sum(popularity)\", ascending=False).show(5)\n",
    "popularity_by_artists.orderBy(\"sum(popularity)\", ascending=True).show(5)"
   ]
  },
  {
   "cell_type": "markdown",
   "id": "9c324566",
   "metadata": {},
   "source": [
    "**Die drei ???** is the most popular artist apprently. After looking it up, we found out that it is actually a book series, probably transformed into a podcast or an e-book on Spotify."
   ]
  },
  {
   "cell_type": "code",
   "execution_count": 16,
   "id": "3fd5bb18",
   "metadata": {},
   "outputs": [
    {
     "name": "stdout",
     "output_type": "stream",
     "text": [
      "Number of artists with popularity higher than 0: 103754\n"
     ]
    }
   ],
   "source": [
    "pop_artists = clean_df.groupBy(\"artists\")\\\n",
    "    .agg({\"popularity\": \"sum\"})\\\n",
    "    .filter(fn.col(\"sum(popularity)\") != 0)\\\n",
    "    .count()\n",
    "\n",
    "print(f\"Number of artists with popularity higher than 0: {pop_artists}\")"
   ]
  },
  {
   "cell_type": "code",
   "execution_count": 17,
   "id": "8777cd1b",
   "metadata": {},
   "outputs": [
    {
     "name": "stdout",
     "output_type": "stream",
     "text": [
      "Number of artists with 0 popularity: 8605\n"
     ]
    }
   ],
   "source": [
    "zeropop_artists = clean_df.groupBy(\"artists\")\\\n",
    "    .agg({\"popularity\": \"sum\"})\\\n",
    "    .filter(fn.col(\"sum(popularity)\") == 0)\\\n",
    "    .count()\n",
    "\n",
    "print(f\"Number of artists with 0 popularity: {zeropop_artists}\")"
   ]
  },
  {
   "cell_type": "markdown",
   "id": "a0bd23f7",
   "metadata": {},
   "source": [
    "# MLLIB shit"
   ]
  },
  {
   "cell_type": "markdown",
   "id": "c681aa94",
   "metadata": {},
   "source": [
    "#### Concatenate features in Dense Vector"
   ]
  },
  {
   "cell_type": "code",
   "execution_count": 18,
   "id": "34f0f039",
   "metadata": {},
   "outputs": [],
   "source": [
    "vect_ass = VectorAssembler(\n",
    "    inputCols=[\"duration_ms\", \"danceability\", \"loudness\", \"tempo\", \"after_1980\"],\n",
    "    outputCol=\"features\"\n",
    ")"
   ]
  },
  {
   "cell_type": "code",
   "execution_count": 19,
   "id": "46c3870f",
   "metadata": {},
   "outputs": [
    {
     "name": "stdout",
     "output_type": "stream",
     "text": [
      "+--------------------+-----+\n",
      "|            features|label|\n",
      "+--------------------+-----+\n",
      "|[126903.0,0.64499...|    0|\n",
      "|[98200.0,0.694999...|    0|\n",
      "|[181640.0,0.43399...|    0|\n",
      "|[176907.0,0.32100...|    0|\n",
      "|[163080.0,0.40200...|    0|\n",
      "+--------------------+-----+\n",
      "only showing top 5 rows\n",
      "\n"
     ]
    }
   ],
   "source": [
    "vect_ass_df = vect_ass.transform(clean_df)\n",
    "vect_ass_df = vect_ass_df.select([\"features\", \"popular_af\"])\\\n",
    "    .withColumnRenamed(\"popular_af\", \"label\")\n",
    "\n",
    "vect_ass_df.show(5)"
   ]
  },
  {
   "cell_type": "markdown",
   "id": "976d6a05",
   "metadata": {},
   "source": [
    "#### Train Test Split"
   ]
  },
  {
   "cell_type": "code",
   "execution_count": 20,
   "id": "ee1b95bb",
   "metadata": {},
   "outputs": [],
   "source": [
    "train_data, test_data = vect_ass_df.randomSplit([0.8, 0.2])"
   ]
  },
  {
   "cell_type": "code",
   "execution_count": 21,
   "id": "2cbcb66f",
   "metadata": {},
   "outputs": [
    {
     "name": "stdout",
     "output_type": "stream",
     "text": [
      "All data length: 584116\n",
      "Train data length: 467743\n",
      "Test data length: 116373\n"
     ]
    }
   ],
   "source": [
    "print(f\"All data length: {vect_ass_df.count()}\")\n",
    "print(f\"Train data length: {train_data.count()}\")\n",
    "print(f\"Test data length: {test_data.count()}\")"
   ]
  },
  {
   "cell_type": "markdown",
   "id": "cea4ffb9",
   "metadata": {},
   "source": [
    "### A) Decision Tree Classifier"
   ]
  },
  {
   "cell_type": "code",
   "execution_count": 22,
   "id": "ca5d7ba2",
   "metadata": {},
   "outputs": [],
   "source": [
    "dt = DecisionTreeClassifier(\n",
    "    featuresCol=\"features\",\n",
    "    labelCol=\"label\"\n",
    ")\n",
    "\n",
    "fitted_dt = dt.fit(train_data)\n",
    "dt_test_preds = fitted_dt.transform(test_data)"
   ]
  },
  {
   "cell_type": "code",
   "execution_count": 23,
   "id": "bd47efbc",
   "metadata": {},
   "outputs": [
    {
     "name": "stdout",
     "output_type": "stream",
     "text": [
      "+--------------------+-----+------------------+--------------------+----------+\n",
      "|            features|label|     rawPrediction|         probability|prediction|\n",
      "+--------------------+-----+------------------+--------------------+----------+\n",
      "|(5,[0,2],[4000.0,...|    0|[412012.0,55731.0]|[0.88085123668339...|       0.0|\n",
      "|(5,[0,2],[4000.0,...|    0|[412012.0,55731.0]|[0.88085123668339...|       0.0|\n",
      "|(5,[0,2],[6373.0,...|    0|[412012.0,55731.0]|[0.88085123668339...|       0.0|\n",
      "|(5,[0,2],[7523.0,...|    0|[412012.0,55731.0]|[0.88085123668339...|       0.0|\n",
      "|(5,[0,2],[12678.0...|    0|[412012.0,55731.0]|[0.88085123668339...|       0.0|\n",
      "+--------------------+-----+------------------+--------------------+----------+\n",
      "only showing top 5 rows\n",
      "\n"
     ]
    }
   ],
   "source": [
    "dt_test_preds.show(5)"
   ]
  },
  {
   "cell_type": "markdown",
   "id": "4027108f",
   "metadata": {},
   "source": [
    "#### Evaluation"
   ]
  },
  {
   "cell_type": "code",
   "execution_count": 24,
   "id": "14ac594a",
   "metadata": {},
   "outputs": [
    {
     "name": "stdout",
     "output_type": "stream",
     "text": [
      "Decision Tree Prediction areaUnderROC:  0.5\n",
      "Decision Tree Prediction areaUnderPR:  0.117716308765779\n",
      "Confusion Matrix:\n",
      "[[102674      0]\n",
      " [ 13699      0]]\n"
     ]
    }
   ],
   "source": [
    "area_under_roc_evaluator = BinaryClassificationEvaluator(\n",
    "    rawPredictionCol=\"prediction\", labelCol=\"label\", metricName=\"areaUnderROC\"\n",
    ")\n",
    "area_under_pr_evaluator = BinaryClassificationEvaluator(\n",
    "    rawPredictionCol=\"prediction\", labelCol=\"label\", metricName=\"areaUnderPR\"\n",
    ")\n",
    "\n",
    "dt_area_under_roc = area_under_roc_evaluator.evaluate(dt_test_preds)\n",
    "dt_area_under_pr_evaluator = area_under_pr_evaluator.evaluate(dt_test_preds)\n",
    "\n",
    " \n",
    "print(\"Decision Tree Prediction areaUnderROC: \", dt_area_under_roc)\n",
    "print(\"Decision Tree Prediction areaUnderPR: \", dt_area_under_pr_evaluator)\n",
    "\n",
    "\n",
    "y_dt_pred = dt_test_preds.select(\"prediction\").collect()\n",
    "y_dt_orig = dt_test_preds.select(\"label\").collect()\n",
    "\n",
    "dt_cm = confusion_matrix(y_dt_orig, y_dt_pred)\n",
    "print(\"Confusion Matrix:\")\n",
    "print(dt_cm)"
   ]
  },
  {
   "cell_type": "markdown",
   "id": "42f825c8",
   "metadata": {},
   "source": [
    "#### Results:\n",
    "\n",
    "What a horrible fucking classifier how bad can you get you fucking trashbag"
   ]
  },
  {
   "cell_type": "markdown",
   "id": "faf6e8ca",
   "metadata": {},
   "source": [
    "# Pipeline Part"
   ]
  },
  {
   "cell_type": "markdown",
   "id": "5d42c328",
   "metadata": {},
   "source": [
    "You'll also train another model using Pipelines:\n",
    "\n",
    "- Creating a pipeline with at least one feature extraction/manipulation and one model estimator\n",
    "- Fitting the pipeline to the training data\n",
    "- Applying the model to the test data and computing the errors"
   ]
  },
  {
   "cell_type": "markdown",
   "id": "f06906b7",
   "metadata": {},
   "source": [
    "###  OUR OWN BEAUTIFUL GARBAGE"
   ]
  },
  {
   "cell_type": "code",
   "execution_count": 65,
   "id": "117643e8",
   "metadata": {},
   "outputs": [],
   "source": [
    "train_df, test_df = clean_df.randomSplit([0.9, 0.1])"
   ]
  },
  {
   "cell_type": "markdown",
   "id": "fbb3a15c",
   "metadata": {},
   "source": [
    "#### Gradient Boosted Tree Model"
   ]
  },
  {
   "cell_type": "code",
   "execution_count": 93,
   "id": "8c37a731",
   "metadata": {},
   "outputs": [],
   "source": [
    "gb_model = GBTClassifier(\n",
    "    labelCol=\"popular_af\"\n",
    ")"
   ]
  },
  {
   "cell_type": "markdown",
   "id": "a42b7109",
   "metadata": {},
   "source": [
    "#### Logistic Regression Model"
   ]
  },
  {
   "cell_type": "code",
   "execution_count": 110,
   "id": "51a5fe08",
   "metadata": {},
   "outputs": [],
   "source": [
    "lr_model = LogisticRegression(\n",
    "    maxIter=1000,\n",
    "    regParam=0.1,\n",
    "    elasticNetParam=0.2,\n",
    "    standardization=False,\n",
    "    labelCol=\"popular_af\",\n",
    "    threshold=0.1\n",
    ")"
   ]
  },
  {
   "cell_type": "markdown",
   "id": "4cd5e7d6",
   "metadata": {},
   "source": [
    "## Logistic Pipeline"
   ]
  },
  {
   "cell_type": "code",
   "execution_count": 111,
   "id": "39b9f30f",
   "metadata": {},
   "outputs": [],
   "source": [
    "v_ass = VectorAssembler(\n",
    "    inputCols=[\"duration_ms\", \"danceability\", \"loudness\", \"tempo\", \"after_1980\"],\n",
    "    outputCol=\"features\"\n",
    ")"
   ]
  },
  {
   "cell_type": "code",
   "execution_count": 112,
   "id": "53efb6c5",
   "metadata": {},
   "outputs": [],
   "source": [
    "pipe = Pipeline(\n",
    "    stages=[v_ass, lr_model]\n",
    ")\n",
    "\n",
    "fitted_lr = pipe.fit(train_df)"
   ]
  },
  {
   "cell_type": "code",
   "execution_count": 113,
   "id": "60153855",
   "metadata": {},
   "outputs": [],
   "source": [
    "lr_test_preds = fitted_lr.transform(test_df)"
   ]
  },
  {
   "cell_type": "markdown",
   "id": "0095f942",
   "metadata": {},
   "source": [
    "#### Evaluation"
   ]
  },
  {
   "cell_type": "code",
   "execution_count": 114,
   "id": "f2c7f19c",
   "metadata": {},
   "outputs": [
    {
     "name": "stdout",
     "output_type": "stream",
     "text": [
      "Logistic Regression Prediction areaUnderROC:  0.6404703644274753\n",
      "Logistic Regression Prediction areaUnderPR:  0.16349762634647186\n",
      "Confusion Matrix:\n",
      "[[23069 28436]\n",
      " [ 1148  5728]]\n"
     ]
    }
   ],
   "source": [
    "auROC_evaluator = BinaryClassificationEvaluator(\n",
    "    rawPredictionCol=\"prediction\", labelCol=\"popular_af\", metricName=\"areaUnderROC\"\n",
    ")\n",
    "auPR_evaluator = BinaryClassificationEvaluator(\n",
    "    rawPredictionCol=\"prediction\", labelCol=\"popular_af\", metricName=\"areaUnderPR\"\n",
    ")\n",
    "\n",
    "lr_area_under_roc = auROC_evaluator.evaluate(lr_test_preds)\n",
    "lr_area_under_pr_evaluator = auPR_evaluator.evaluate(lr_test_preds)\n",
    "\n",
    " \n",
    "print(\"Logistic Regression Prediction areaUnderROC: \", lr_area_under_roc)\n",
    "print(\"Logistic Regression Prediction areaUnderPR: \", lr_area_under_pr_evaluator)\n",
    "\n",
    "\n",
    "y_lr_pred = lr_test_preds.select(\"prediction\").collect()\n",
    "y_lr_orig = lr_test_preds.select(\"popular_af\").collect()\n",
    "\n",
    "lr_cm = confusion_matrix(y_lr_orig, y_lr_pred)\n",
    "print(\"Confusion Matrix:\")\n",
    "print(lr_cm)"
   ]
  },
  {
   "cell_type": "markdown",
   "id": "7a4190ff",
   "metadata": {},
   "source": [
    "## GBT Pipeline"
   ]
  },
  {
   "cell_type": "code",
   "execution_count": 106,
   "id": "da2161e0",
   "metadata": {},
   "outputs": [],
   "source": [
    "gb_pipe = Pipeline(\n",
    "    stages=[v_ass, gb_model]\n",
    ")\n",
    "\n",
    "fitted_gb = pipe.fit(train_df)"
   ]
  },
  {
   "cell_type": "code",
   "execution_count": 107,
   "id": "334916d4",
   "metadata": {},
   "outputs": [],
   "source": [
    "gb_test_preds = fitted_gb.transform(test_df)"
   ]
  },
  {
   "cell_type": "markdown",
   "id": "4ff2ab36",
   "metadata": {},
   "source": [
    "#### Evaluation"
   ]
  },
  {
   "cell_type": "code",
   "execution_count": 109,
   "id": "b92bc7f4",
   "metadata": {},
   "outputs": [
    {
     "name": "stdout",
     "output_type": "stream",
     "text": [
      "Gradient Boosted Tree Prediction areaUnderROC:  0.6404703644274753\n",
      "Gradient Boosted Tree Prediction areaUnderPR:  0.16349762634647186\n",
      "Confusion Matrix:\n",
      "[[23069 28436]\n",
      " [ 1148  5728]]\n"
     ]
    }
   ],
   "source": [
    "auROC_evaluator = BinaryClassificationEvaluator(\n",
    "    rawPredictionCol=\"prediction\", labelCol=\"popular_af\", metricName=\"areaUnderROC\"\n",
    ")\n",
    "auPR_evaluator = BinaryClassificationEvaluator(\n",
    "    rawPredictionCol=\"prediction\", labelCol=\"popular_af\", metricName=\"areaUnderPR\"\n",
    ")\n",
    "\n",
    "gb_area_under_roc = auROC_evaluator.evaluate(gb_test_preds)\n",
    "gb_area_under_pr_evaluator = auPR_evaluator.evaluate(gb_test_preds)\n",
    "\n",
    " \n",
    "print(\"Gradient Boosted Tree Prediction areaUnderROC: \", gb_area_under_roc)\n",
    "print(\"Gradient Boosted Tree Prediction areaUnderPR: \", gb_area_under_pr_evaluator)\n",
    "\n",
    "\n",
    "y_gb_pred = gb_test_preds.select(\"prediction\").collect()\n",
    "y_gb_orig = gb_test_preds.select(\"popular_af\").collect()\n",
    "\n",
    "gb_cm = confusion_matrix(y_gb_orig, y_gb_pred)\n",
    "print(\"Confusion Matrix:\")\n",
    "print(gb_cm)"
   ]
  },
  {
   "cell_type": "markdown",
   "id": "1a79cabf",
   "metadata": {},
   "source": [
    "### Conclusion\n",
    "\n",
    "The 3 models did not yield satisfying results. Decision Tree and Gradient Boosted Tree were mediocre, yielding an area under ROC of 0.5 which corresponds to a random classifier. "
   ]
  },
  {
   "cell_type": "markdown",
   "id": "b937f1a5",
   "metadata": {},
   "source": [
    "#### Stop Spark Session"
   ]
  },
  {
   "cell_type": "code",
   "execution_count": 3,
   "id": "73801fc2",
   "metadata": {},
   "outputs": [],
   "source": [
    "spark.stop()"
   ]
  }
 ],
 "metadata": {
  "kernelspec": {
   "display_name": "Python 3 (ipykernel)",
   "language": "python",
   "name": "python3"
  },
  "language_info": {
   "codemirror_mode": {
    "name": "ipython",
    "version": 3
   },
   "file_extension": ".py",
   "mimetype": "text/x-python",
   "name": "python",
   "nbconvert_exporter": "python",
   "pygments_lexer": "ipython3",
   "version": "3.9.7"
  }
 },
 "nbformat": 4,
 "nbformat_minor": 5
}
