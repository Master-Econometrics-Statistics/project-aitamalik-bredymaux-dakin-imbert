{
 "cells": [
  {
   "cell_type": "markdown",
   "id": "bb1c3fb4",
   "metadata": {},
   "source": [
    "# Spark Shit"
   ]
  },
  {
   "cell_type": "markdown",
   "id": "183e7089",
   "metadata": {},
   "source": [
    "#### Imports"
   ]
  },
  {
   "cell_type": "code",
   "execution_count": 62,
   "id": "c6173c65",
   "metadata": {},
   "outputs": [],
   "source": [
    "import pandas as pd\n",
    "import matplotlib.pyplot as plt\n",
    "\n",
    "from pyspark.sql import SparkSession\n",
    "from pyspark.sql import functions as fn\n",
    "\n",
    "spark = SparkSession.builder\\\n",
    "    .master(\"local[1]\")\\\n",
    "    .appName(\"big_data\")\\\n",
    "    .getOrCreate()\n",
    "\n",
    "\n",
    "%matplotlib inline"
   ]
  },
  {
   "cell_type": "markdown",
   "id": "7217ebf2",
   "metadata": {},
   "source": [
    "#### Data"
   ]
  },
  {
   "cell_type": "code",
   "execution_count": 40,
   "id": "933bb9de",
   "metadata": {},
   "outputs": [],
   "source": [
    "df = spark.read\\\n",
    "    .option(\"header\", \"true\")\\\n",
    "    .option(\"delimiter\", \",\")\\\n",
    "    .csv(\"tracks.csv\")"
   ]
  },
  {
   "cell_type": "code",
   "execution_count": 60,
   "id": "87d7d3bb",
   "metadata": {},
   "outputs": [
    {
     "name": "stdout",
     "output_type": "stream",
     "text": [
      "root\n",
      " |-- id: string (nullable = true)\n",
      " |-- name: string (nullable = true)\n",
      " |-- popularity: string (nullable = true)\n",
      " |-- duration_ms: string (nullable = true)\n",
      " |-- artists: string (nullable = true)\n",
      " |-- release_date: string (nullable = true)\n",
      " |-- danceability: string (nullable = true)\n",
      " |-- loudness: string (nullable = true)\n",
      " |-- tempo: string (nullable = true)\n",
      "\n",
      "+--------------------+--------------------+----------+-----------+-------------------+------------+------------+--------+-------+\n",
      "|                  id|                name|popularity|duration_ms|            artists|release_date|danceability|loudness|  tempo|\n",
      "+--------------------+--------------------+----------+-----------+-------------------+------------+------------+--------+-------+\n",
      "|35iwgR4jXetI318WE...|               Carve|         6|     126903|            ['Uli']|  1922-02-22|       0.645| -13.338|104.851|\n",
      "|021ht4sdgPcrDgSk7...|Capítulo 2.16 - B...|         0|      98200|['Fernando Pessoa']|  1922-06-01|       0.695| -22.136|102.009|\n",
      "|07A5yehtSnoedViJA...|Vivo para Querert...|         0|     181640|['Ignacio Corsini']|  1922-03-21|       0.434|  -21.18|130.418|\n",
      "|08FmqUhxtyLTn6pAh...|El Prisionero - R...|         0|     176907|['Ignacio Corsini']|  1922-03-21|       0.321| -27.961| 169.98|\n",
      "|08y9GfoqCWfOGsKdw...| Lady of the Evening|         0|     163080|    ['Dick Haymes']|        1922|       0.402|   -16.9| 103.22|\n",
      "+--------------------+--------------------+----------+-----------+-------------------+------------+------------+--------+-------+\n",
      "only showing top 5 rows\n",
      "\n"
     ]
    }
   ],
   "source": [
    "df.printSchema()\n",
    "df.show(n=5)"
   ]
  },
  {
   "cell_type": "markdown",
   "id": "bc4120f8",
   "metadata": {},
   "source": [
    "#### Keep only interesting columns"
   ]
  },
  {
   "cell_type": "code",
   "execution_count": 61,
   "id": "a3d84ffe",
   "metadata": {},
   "outputs": [
    {
     "name": "stdout",
     "output_type": "stream",
     "text": [
      "root\n",
      " |-- id: string (nullable = true)\n",
      " |-- name: string (nullable = true)\n",
      " |-- popularity: string (nullable = true)\n",
      " |-- duration_ms: string (nullable = true)\n",
      " |-- artists: string (nullable = true)\n",
      " |-- release_date: string (nullable = true)\n",
      " |-- danceability: string (nullable = true)\n",
      " |-- loudness: string (nullable = true)\n",
      " |-- tempo: string (nullable = true)\n",
      "\n",
      "+--------------------+--------------------+----------+-----------+-------------------+------------+------------+--------+-------+\n",
      "|                  id|                name|popularity|duration_ms|            artists|release_date|danceability|loudness|  tempo|\n",
      "+--------------------+--------------------+----------+-----------+-------------------+------------+------------+--------+-------+\n",
      "|35iwgR4jXetI318WE...|               Carve|         6|     126903|            ['Uli']|  1922-02-22|       0.645| -13.338|104.851|\n",
      "|021ht4sdgPcrDgSk7...|Capítulo 2.16 - B...|         0|      98200|['Fernando Pessoa']|  1922-06-01|       0.695| -22.136|102.009|\n",
      "|07A5yehtSnoedViJA...|Vivo para Querert...|         0|     181640|['Ignacio Corsini']|  1922-03-21|       0.434|  -21.18|130.418|\n",
      "|08FmqUhxtyLTn6pAh...|El Prisionero - R...|         0|     176907|['Ignacio Corsini']|  1922-03-21|       0.321| -27.961| 169.98|\n",
      "|08y9GfoqCWfOGsKdw...| Lady of the Evening|         0|     163080|    ['Dick Haymes']|        1922|       0.402|   -16.9| 103.22|\n",
      "+--------------------+--------------------+----------+-----------+-------------------+------------+------------+--------+-------+\n",
      "only showing top 5 rows\n",
      "\n"
     ]
    }
   ],
   "source": [
    "df = df.select(\"id\", \"name\", \"popularity\", \"duration_ms\", \"artists\",\n",
    "          \"release_date\", \"danceability\", \"loudness\", \"tempo\")\n",
    "\n",
    "df.printSchema()\n",
    "df.show(n=5)"
   ]
  },
  {
   "cell_type": "markdown",
   "id": "6199fe24",
   "metadata": {},
   "source": [
    "#### Drop NAs"
   ]
  },
  {
   "cell_type": "code",
   "execution_count": 54,
   "id": "2562f976",
   "metadata": {},
   "outputs": [
    {
     "name": "stdout",
     "output_type": "stream",
     "text": [
      "df shape: 586672 rows and 9 columns\n"
     ]
    }
   ],
   "source": [
    "print(f\"df shape: {df.count()} rows and {len(df.columns)} columns\")"
   ]
  },
  {
   "cell_type": "code",
   "execution_count": 49,
   "id": "742925bb",
   "metadata": {},
   "outputs": [],
   "source": [
    "clean_df = df.na.drop()"
   ]
  },
  {
   "cell_type": "code",
   "execution_count": 53,
   "id": "5c754772",
   "metadata": {},
   "outputs": [
    {
     "name": "stdout",
     "output_type": "stream",
     "text": [
      "clean_df shape: 586589 rows and 9 columns\n"
     ]
    }
   ],
   "source": [
    "print(f\"clean_df shape: {clean_df.count()} rows and {len(clean_df.columns)} columns\")"
   ]
  },
  {
   "cell_type": "markdown",
   "id": "af8965b5",
   "metadata": {},
   "source": [
    "#### New column where release date > 2000"
   ]
  },
  {
   "cell_type": "code",
   "execution_count": null,
   "id": "af8827be",
   "metadata": {},
   "outputs": [],
   "source": [
    "clean_df = clean_df.withColumn(\n",
    "    \"after_1980\",\n",
    "    fn.when(\n",
    "        (fn.col(\"release_date\") > 1980), 1\n",
    "    ).otherwise(0)\n",
    ")\n",
    "\n",
    "clean_df.show(n=5)"
   ]
  },
  {
   "cell_type": "markdown",
   "id": "f5fc4c06",
   "metadata": {},
   "source": [
    "#### Get a separate year variable"
   ]
  },
  {
   "cell_type": "code",
   "execution_count": 71,
   "id": "c21623c2",
   "metadata": {},
   "outputs": [
    {
     "name": "stdout",
     "output_type": "stream",
     "text": [
      "+--------------------+--------------------+----------+-----------+-------------------+------------+------------+--------+-------+----+\n",
      "|                  id|                name|popularity|duration_ms|            artists|release_date|danceability|loudness|  tempo|year|\n",
      "+--------------------+--------------------+----------+-----------+-------------------+------------+------------+--------+-------+----+\n",
      "|35iwgR4jXetI318WE...|               Carve|         6|     126903|            ['Uli']|  1922-02-22|       0.645| -13.338|104.851|1922|\n",
      "|021ht4sdgPcrDgSk7...|Capítulo 2.16 - B...|         0|      98200|['Fernando Pessoa']|  1922-06-01|       0.695| -22.136|102.009|1922|\n",
      "|07A5yehtSnoedViJA...|Vivo para Querert...|         0|     181640|['Ignacio Corsini']|  1922-03-21|       0.434|  -21.18|130.418|1922|\n",
      "|08FmqUhxtyLTn6pAh...|El Prisionero - R...|         0|     176907|['Ignacio Corsini']|  1922-03-21|       0.321| -27.961| 169.98|1922|\n",
      "|08y9GfoqCWfOGsKdw...| Lady of the Evening|         0|     163080|    ['Dick Haymes']|        1922|       0.402|   -16.9| 103.22|1922|\n",
      "+--------------------+--------------------+----------+-----------+-------------------+------------+------------+--------+-------+----+\n",
      "only showing top 5 rows\n",
      "\n"
     ]
    }
   ],
   "source": [
    "clean_df = clean_df.withColumn(\n",
    "    \"year\",\n",
    "    fn.year(\"release_date\")\n",
    ")\n",
    "\n",
    "clean_df.show(n=5)"
   ]
  },
  {
   "cell_type": "markdown",
   "id": "262797ec",
   "metadata": {},
   "source": [
    "## Split into popular and unpopular"
   ]
  },
  {
   "cell_type": "code",
   "execution_count": 73,
   "id": "722749d9",
   "metadata": {},
   "outputs": [
    {
     "name": "stdout",
     "output_type": "stream",
     "text": [
      "Number of popular hits: 736\n"
     ]
    }
   ],
   "source": [
    "pop_df = clean_df.filter(clean_df.popularity > 80)\n",
    "\n",
    "print(f\"Number of popular hits: {pop_df.count()}\")"
   ]
  },
  {
   "cell_type": "code",
   "execution_count": 74,
   "id": "01ecd4a5",
   "metadata": {},
   "outputs": [
    {
     "name": "stdout",
     "output_type": "stream",
     "text": [
      "Number of UNpopular hits: 583999\n"
     ]
    }
   ],
   "source": [
    "unpop_df = clean_df.filter(clean_df.popularity <= 80)\n",
    "\n",
    "print(f\"Number of UNpopular hits: {unpop_df.count()}\")"
   ]
  },
  {
   "cell_type": "markdown",
   "id": "c415c6de",
   "metadata": {},
   "source": [
    "## Popularity by Year"
   ]
  },
  {
   "cell_type": "code",
   "execution_count": 86,
   "id": "c3a563a8",
   "metadata": {},
   "outputs": [
    {
     "name": "stdout",
     "output_type": "stream",
     "text": [
      "+----+--------------+--------------+------------------+\n",
      "|year|min_popularity|max_popularity|    avg_popularity|\n",
      "+----+--------------+--------------+------------------+\n",
      "|2019|             0|            94|44.910613584715094|\n",
      "|2020|             0|            97| 44.68210586881473|\n",
      "|2017|             0|             9| 42.22243615727604|\n",
      "|2018|             0|             9| 42.15595489135418|\n",
      "|2016|             0|             9| 39.29119536693512|\n",
      "+----+--------------+--------------+------------------+\n",
      "only showing top 5 rows\n",
      "\n",
      "+----+--------------+--------------+--------------------+\n",
      "|year|min_popularity|max_popularity|      avg_popularity|\n",
      "+----+--------------+--------------+--------------------+\n",
      "|1922|             0|             6|0.057971014492753624|\n",
      "|1929|             0|             9|  0.3431111111111111|\n",
      "|1924|             0|             9|  0.6129541864139021|\n",
      "|1927|             0|             9|  0.6532999164578112|\n",
      "|1934|             0|             9|  0.8070362473347548|\n",
      "+----+--------------+--------------+--------------------+\n",
      "only showing top 5 rows\n",
      "\n"
     ]
    }
   ],
   "source": [
    "popularity_by_year = clean_df.groupBy(\"year\").agg(\n",
    "    fn.min(\"popularity\").alias(\"min_popularity\"),\\\n",
    "    fn.max(\"popularity\").alias(\"max_popularity\"),\\\n",
    "    fn.mean(\"popularity\").alias(\"avg_popularity\")\n",
    ")\n",
    "\n",
    "popularity_by_year.orderBy(\"avg_popularity\", ascending=False).show(5)\n",
    "popularity_by_year.orderBy(\"avg_popularity\", ascending=True).show(5)"
   ]
  },
  {
   "cell_type": "markdown",
   "id": "a9301847",
   "metadata": {},
   "source": [
    "#### We notice that 2019 is the year with the highest average song popularity while the worst is 1922.\n",
    "However, there seems to be a problem because there are many years where the max popularity is extremely low (around 9). This is not normal because it is hard to believe that years like 2017, 2018 or 2016 have a max popularity of 9. We consider this to be a problem in the computation of the popularity variable."
   ]
  },
  {
   "cell_type": "code",
   "execution_count": null,
   "id": "7b6b61b2",
   "metadata": {},
   "outputs": [],
   "source": []
  },
  {
   "cell_type": "markdown",
   "id": "3d6406e1",
   "metadata": {},
   "source": [
    "## Artist Popularity"
   ]
  },
  {
   "cell_type": "code",
   "execution_count": 118,
   "id": "c1a1f9bc",
   "metadata": {
    "scrolled": false
   },
   "outputs": [
    {
     "name": "stdout",
     "output_type": "stream",
     "text": [
      "+--------------------+---------------+\n",
      "|             artists|sum(popularity)|\n",
      "+--------------------+---------------+\n",
      "|    ['Die drei ???']|       140705.0|\n",
      "|['TKKG Retro-Arch...|        58554.0|\n",
      "| ['Bibi Blocksberg']|        50096.0|\n",
      "|['Benjamin Blümch...|        42371.0|\n",
      "|   ['Bibi und Tina']|        32037.0|\n",
      "+--------------------+---------------+\n",
      "only showing top 5 rows\n",
      "\n",
      "+--------------------+---------------+\n",
      "|             artists|sum(popularity)|\n",
      "+--------------------+---------------+\n",
      "|     ['Κος Χρήστος']|            0.0|\n",
      "|     ['Samar Gupta']|            0.0|\n",
      "|     ['Lars Lervik']|            0.0|\n",
      "|['Ruggiero Leon-c...|            0.0|\n",
      "|    ['Y. Rosnblatt']|            0.0|\n",
      "+--------------------+---------------+\n",
      "only showing top 5 rows\n",
      "\n"
     ]
    }
   ],
   "source": [
    "popularity_by_artists = clean_df.groupBy(\"artists\")\\\n",
    "    .agg({\"popularity\": \"sum\"})\\\n",
    "    .filter(fn.col(\"sum(popularity)\").isNotNull())\n",
    "\n",
    "popularity_by_artists.orderBy(\"sum(popularity)\", ascending=False).show(5)\n",
    "popularity_by_artists.orderBy(\"sum(popularity)\", ascending=True).show(5)"
   ]
  },
  {
   "cell_type": "code",
   "execution_count": 121,
   "id": "3fd5bb18",
   "metadata": {},
   "outputs": [
    {
     "data": {
      "text/plain": [
       "104283"
      ]
     },
     "execution_count": 121,
     "metadata": {},
     "output_type": "execute_result"
    }
   ],
   "source": [
    "clean_df.groupBy(\"artists\")\\\n",
    "    .agg({\"popularity\": \"sum\"})\\\n",
    "    .filter(fn.col(\"sum(popularity)\") != 0)\\\n",
    "    .count()"
   ]
  },
  {
   "cell_type": "code",
   "execution_count": 120,
   "id": "8777cd1b",
   "metadata": {},
   "outputs": [
    {
     "data": {
      "text/plain": [
       "8674"
      ]
     },
     "execution_count": 120,
     "metadata": {},
     "output_type": "execute_result"
    }
   ],
   "source": [
    "clean_df.groupBy(\"artists\")\\\n",
    "    .agg({\"popularity\": \"sum\"})\\\n",
    "    .filter(fn.col(\"sum(popularity)\") == 0)\\\n",
    "    .count()"
   ]
  },
  {
   "cell_type": "markdown",
   "id": "9c324566",
   "metadata": {},
   "source": [
    "**Die drei ???** is the most popular artist apprently. We have personally never heard of him. It seems like a weird german band.  \n",
    "There are 8674 artists with 0 popularity. Poor peeps."
   ]
  },
  {
   "cell_type": "code",
   "execution_count": null,
   "id": "4e79a9df",
   "metadata": {},
   "outputs": [],
   "source": []
  },
  {
   "cell_type": "code",
   "execution_count": null,
   "id": "98efc7ac",
   "metadata": {},
   "outputs": [],
   "source": []
  },
  {
   "cell_type": "code",
   "execution_count": null,
   "id": "004f5f3a",
   "metadata": {},
   "outputs": [],
   "source": []
  }
 ],
 "metadata": {
  "kernelspec": {
   "display_name": "Python 3 (ipykernel)",
   "language": "python",
   "name": "python3"
  },
  "language_info": {
   "codemirror_mode": {
    "name": "ipython",
    "version": 3
   },
   "file_extension": ".py",
   "mimetype": "text/x-python",
   "name": "python",
   "nbconvert_exporter": "python",
   "pygments_lexer": "ipython3",
   "version": "3.9.7"
  }
 },
 "nbformat": 4,
 "nbformat_minor": 5
}
