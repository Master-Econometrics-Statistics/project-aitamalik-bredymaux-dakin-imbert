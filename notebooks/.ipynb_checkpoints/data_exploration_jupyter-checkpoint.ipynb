{
 "cells": [
  {
   "cell_type": "markdown",
   "id": "1df90253",
   "metadata": {},
   "source": [
    "# DATA EXPLORATION"
   ]
  },
  {
   "cell_type": "markdown",
   "id": "079e9849",
   "metadata": {},
   "source": [
    "## Imports"
   ]
  },
  {
   "cell_type": "code",
   "execution_count": 1,
   "id": "c9309dd6",
   "metadata": {},
   "outputs": [],
   "source": [
    "import pandas as pd\n",
    "import matplotlib.pyplot as plt\n",
    "\n",
    "%matplotlib inline"
   ]
  },
  {
   "cell_type": "markdown",
   "id": "dff75a47",
   "metadata": {},
   "source": [
    "#### Data"
   ]
  },
  {
   "cell_type": "code",
   "execution_count": 2,
   "id": "f60ac7ad",
   "metadata": {},
   "outputs": [],
   "source": [
    "df = pd.read_csv(\"tracks.csv.zip\", sep=\",\")"
   ]
  },
  {
   "cell_type": "code",
   "execution_count": 3,
   "id": "129ec150",
   "metadata": {
    "scrolled": true
   },
   "outputs": [
    {
     "data": {
      "text/html": [
       "<div>\n",
       "<style scoped>\n",
       "    .dataframe tbody tr th:only-of-type {\n",
       "        vertical-align: middle;\n",
       "    }\n",
       "\n",
       "    .dataframe tbody tr th {\n",
       "        vertical-align: top;\n",
       "    }\n",
       "\n",
       "    .dataframe thead th {\n",
       "        text-align: right;\n",
       "    }\n",
       "</style>\n",
       "<table border=\"1\" class=\"dataframe\">\n",
       "  <thead>\n",
       "    <tr style=\"text-align: right;\">\n",
       "      <th></th>\n",
       "      <th>id</th>\n",
       "      <th>name</th>\n",
       "      <th>popularity</th>\n",
       "      <th>duration_ms</th>\n",
       "      <th>explicit</th>\n",
       "      <th>artists</th>\n",
       "      <th>id_artists</th>\n",
       "      <th>release_date</th>\n",
       "      <th>danceability</th>\n",
       "      <th>energy</th>\n",
       "      <th>key</th>\n",
       "      <th>loudness</th>\n",
       "      <th>mode</th>\n",
       "      <th>speechiness</th>\n",
       "      <th>acousticness</th>\n",
       "      <th>instrumentalness</th>\n",
       "      <th>liveness</th>\n",
       "      <th>valence</th>\n",
       "      <th>tempo</th>\n",
       "      <th>time_signature</th>\n",
       "    </tr>\n",
       "  </thead>\n",
       "  <tbody>\n",
       "    <tr>\n",
       "      <th>0</th>\n",
       "      <td>35iwgR4jXetI318WEWsa1Q</td>\n",
       "      <td>Carve</td>\n",
       "      <td>6</td>\n",
       "      <td>126903</td>\n",
       "      <td>0</td>\n",
       "      <td>['Uli']</td>\n",
       "      <td>['45tIt06XoI0Iio4LBEVpls']</td>\n",
       "      <td>1922-02-22</td>\n",
       "      <td>0.645</td>\n",
       "      <td>0.4450</td>\n",
       "      <td>0</td>\n",
       "      <td>-13.338</td>\n",
       "      <td>1</td>\n",
       "      <td>0.4510</td>\n",
       "      <td>0.674</td>\n",
       "      <td>0.7440</td>\n",
       "      <td>0.151</td>\n",
       "      <td>0.127</td>\n",
       "      <td>104.851</td>\n",
       "      <td>3</td>\n",
       "    </tr>\n",
       "    <tr>\n",
       "      <th>1</th>\n",
       "      <td>021ht4sdgPcrDgSk7JTbKY</td>\n",
       "      <td>Capítulo 2.16 - Banquero Anarquista</td>\n",
       "      <td>0</td>\n",
       "      <td>98200</td>\n",
       "      <td>0</td>\n",
       "      <td>['Fernando Pessoa']</td>\n",
       "      <td>['14jtPCOoNZwquk5wd9DxrY']</td>\n",
       "      <td>1922-06-01</td>\n",
       "      <td>0.695</td>\n",
       "      <td>0.2630</td>\n",
       "      <td>0</td>\n",
       "      <td>-22.136</td>\n",
       "      <td>1</td>\n",
       "      <td>0.9570</td>\n",
       "      <td>0.797</td>\n",
       "      <td>0.0000</td>\n",
       "      <td>0.148</td>\n",
       "      <td>0.655</td>\n",
       "      <td>102.009</td>\n",
       "      <td>1</td>\n",
       "    </tr>\n",
       "    <tr>\n",
       "      <th>2</th>\n",
       "      <td>07A5yehtSnoedViJAZkNnc</td>\n",
       "      <td>Vivo para Quererte - Remasterizado</td>\n",
       "      <td>0</td>\n",
       "      <td>181640</td>\n",
       "      <td>0</td>\n",
       "      <td>['Ignacio Corsini']</td>\n",
       "      <td>['5LiOoJbxVSAMkBS2fUm3X2']</td>\n",
       "      <td>1922-03-21</td>\n",
       "      <td>0.434</td>\n",
       "      <td>0.1770</td>\n",
       "      <td>1</td>\n",
       "      <td>-21.180</td>\n",
       "      <td>1</td>\n",
       "      <td>0.0512</td>\n",
       "      <td>0.994</td>\n",
       "      <td>0.0218</td>\n",
       "      <td>0.212</td>\n",
       "      <td>0.457</td>\n",
       "      <td>130.418</td>\n",
       "      <td>5</td>\n",
       "    </tr>\n",
       "    <tr>\n",
       "      <th>3</th>\n",
       "      <td>08FmqUhxtyLTn6pAh6bk45</td>\n",
       "      <td>El Prisionero - Remasterizado</td>\n",
       "      <td>0</td>\n",
       "      <td>176907</td>\n",
       "      <td>0</td>\n",
       "      <td>['Ignacio Corsini']</td>\n",
       "      <td>['5LiOoJbxVSAMkBS2fUm3X2']</td>\n",
       "      <td>1922-03-21</td>\n",
       "      <td>0.321</td>\n",
       "      <td>0.0946</td>\n",
       "      <td>7</td>\n",
       "      <td>-27.961</td>\n",
       "      <td>1</td>\n",
       "      <td>0.0504</td>\n",
       "      <td>0.995</td>\n",
       "      <td>0.9180</td>\n",
       "      <td>0.104</td>\n",
       "      <td>0.397</td>\n",
       "      <td>169.980</td>\n",
       "      <td>3</td>\n",
       "    </tr>\n",
       "    <tr>\n",
       "      <th>4</th>\n",
       "      <td>08y9GfoqCWfOGsKdwojr5e</td>\n",
       "      <td>Lady of the Evening</td>\n",
       "      <td>0</td>\n",
       "      <td>163080</td>\n",
       "      <td>0</td>\n",
       "      <td>['Dick Haymes']</td>\n",
       "      <td>['3BiJGZsyX9sJchTqcSA7Su']</td>\n",
       "      <td>1922</td>\n",
       "      <td>0.402</td>\n",
       "      <td>0.1580</td>\n",
       "      <td>3</td>\n",
       "      <td>-16.900</td>\n",
       "      <td>0</td>\n",
       "      <td>0.0390</td>\n",
       "      <td>0.989</td>\n",
       "      <td>0.1300</td>\n",
       "      <td>0.311</td>\n",
       "      <td>0.196</td>\n",
       "      <td>103.220</td>\n",
       "      <td>4</td>\n",
       "    </tr>\n",
       "  </tbody>\n",
       "</table>\n",
       "</div>"
      ],
      "text/plain": [
       "                       id                                 name  popularity  \\\n",
       "0  35iwgR4jXetI318WEWsa1Q                                Carve           6   \n",
       "1  021ht4sdgPcrDgSk7JTbKY  Capítulo 2.16 - Banquero Anarquista           0   \n",
       "2  07A5yehtSnoedViJAZkNnc   Vivo para Quererte - Remasterizado           0   \n",
       "3  08FmqUhxtyLTn6pAh6bk45        El Prisionero - Remasterizado           0   \n",
       "4  08y9GfoqCWfOGsKdwojr5e                  Lady of the Evening           0   \n",
       "\n",
       "   duration_ms  explicit              artists                  id_artists  \\\n",
       "0       126903         0              ['Uli']  ['45tIt06XoI0Iio4LBEVpls']   \n",
       "1        98200         0  ['Fernando Pessoa']  ['14jtPCOoNZwquk5wd9DxrY']   \n",
       "2       181640         0  ['Ignacio Corsini']  ['5LiOoJbxVSAMkBS2fUm3X2']   \n",
       "3       176907         0  ['Ignacio Corsini']  ['5LiOoJbxVSAMkBS2fUm3X2']   \n",
       "4       163080         0      ['Dick Haymes']  ['3BiJGZsyX9sJchTqcSA7Su']   \n",
       "\n",
       "  release_date  danceability  energy  key  loudness  mode  speechiness  \\\n",
       "0   1922-02-22         0.645  0.4450    0   -13.338     1       0.4510   \n",
       "1   1922-06-01         0.695  0.2630    0   -22.136     1       0.9570   \n",
       "2   1922-03-21         0.434  0.1770    1   -21.180     1       0.0512   \n",
       "3   1922-03-21         0.321  0.0946    7   -27.961     1       0.0504   \n",
       "4         1922         0.402  0.1580    3   -16.900     0       0.0390   \n",
       "\n",
       "   acousticness  instrumentalness  liveness  valence    tempo  time_signature  \n",
       "0         0.674            0.7440     0.151    0.127  104.851               3  \n",
       "1         0.797            0.0000     0.148    0.655  102.009               1  \n",
       "2         0.994            0.0218     0.212    0.457  130.418               5  \n",
       "3         0.995            0.9180     0.104    0.397  169.980               3  \n",
       "4         0.989            0.1300     0.311    0.196  103.220               4  "
      ]
     },
     "execution_count": 3,
     "metadata": {},
     "output_type": "execute_result"
    }
   ],
   "source": [
    "df.head(5)"
   ]
  },
  {
   "cell_type": "code",
   "execution_count": 4,
   "id": "0096fb42",
   "metadata": {},
   "outputs": [
    {
     "data": {
      "text/plain": [
       "(586672, 20)"
      ]
     },
     "execution_count": 4,
     "metadata": {},
     "output_type": "execute_result"
    }
   ],
   "source": [
    "df.shape"
   ]
  },
  {
   "cell_type": "markdown",
   "id": "55d91f90",
   "metadata": {},
   "source": [
    "## A) Data Cleaning"
   ]
  },
  {
   "cell_type": "markdown",
   "id": "a5ad32fa",
   "metadata": {},
   "source": [
    "### Variables of Interest"
   ]
  },
  {
   "cell_type": "code",
   "execution_count": 5,
   "id": "6dc893af",
   "metadata": {},
   "outputs": [],
   "source": [
    "df = df[[\n",
    "    \"id\", \"name\", \"popularity\", \"duration_ms\", \"artists\", \"release_date\", \"danceability\", \"loudness\", \"tempo\"\n",
    "]]"
   ]
  },
  {
   "cell_type": "markdown",
   "id": "0ab7395f",
   "metadata": {},
   "source": [
    "### Missing Values Hunt"
   ]
  },
  {
   "cell_type": "code",
   "execution_count": 6,
   "id": "cc6dd525",
   "metadata": {},
   "outputs": [
    {
     "data": {
      "text/plain": [
       "id               0\n",
       "name            71\n",
       "popularity       0\n",
       "duration_ms      0\n",
       "artists          0\n",
       "release_date     0\n",
       "danceability     0\n",
       "loudness         0\n",
       "tempo            0\n",
       "dtype: int64"
      ]
     },
     "execution_count": 6,
     "metadata": {},
     "output_type": "execute_result"
    }
   ],
   "source": [
    "df.isna().sum()"
   ]
  },
  {
   "cell_type": "markdown",
   "id": "67e3ea99",
   "metadata": {},
   "source": [
    "#### Few so we delete this shit"
   ]
  },
  {
   "cell_type": "code",
   "execution_count": 7,
   "id": "f88afaf5",
   "metadata": {
    "scrolled": true
   },
   "outputs": [
    {
     "data": {
      "text/plain": [
       "id              0\n",
       "name            0\n",
       "popularity      0\n",
       "duration_ms     0\n",
       "artists         0\n",
       "release_date    0\n",
       "danceability    0\n",
       "loudness        0\n",
       "tempo           0\n",
       "dtype: int64"
      ]
     },
     "execution_count": 7,
     "metadata": {},
     "output_type": "execute_result"
    }
   ],
   "source": [
    "df_no_na = df.dropna().reset_index().drop(columns=\"index\")\n",
    "df_no_na.isna().sum()"
   ]
  },
  {
   "cell_type": "markdown",
   "id": "fc458ca3",
   "metadata": {},
   "source": [
    "## B) Analysis"
   ]
  },
  {
   "cell_type": "code",
   "execution_count": 8,
   "id": "0e8525d3",
   "metadata": {
    "scrolled": true
   },
   "outputs": [
    {
     "data": {
      "text/plain": [
       "count    586601.000000\n",
       "mean         27.573212\n",
       "std          18.369417\n",
       "min           0.000000\n",
       "25%          13.000000\n",
       "50%          27.000000\n",
       "75%          41.000000\n",
       "max         100.000000\n",
       "Name: popularity, dtype: float64"
      ]
     },
     "execution_count": 8,
     "metadata": {},
     "output_type": "execute_result"
    }
   ],
   "source": [
    "df_no_na[\"popularity\"].describe()"
   ]
  },
  {
   "cell_type": "markdown",
   "id": "5eeafb41",
   "metadata": {},
   "source": [
    "#### Popularity ranges from 0 to 100"
   ]
  },
  {
   "cell_type": "code",
   "execution_count": 9,
   "id": "3f94cb8f",
   "metadata": {},
   "outputs": [
    {
     "data": {
      "text/plain": [
       "count    586601.000000\n",
       "mean        -10.205789\n",
       "std           5.089422\n",
       "min         -60.000000\n",
       "25%         -12.891000\n",
       "50%          -9.242000\n",
       "75%          -6.481000\n",
       "max           5.376000\n",
       "Name: loudness, dtype: float64"
      ]
     },
     "execution_count": 9,
     "metadata": {},
     "output_type": "execute_result"
    }
   ],
   "source": [
    "df_no_na[\"loudness\"].describe()"
   ]
  },
  {
   "cell_type": "markdown",
   "id": "6b893f4b",
   "metadata": {},
   "source": [
    "#### Loudness ranges from -60 to 5.37 "
   ]
  },
  {
   "cell_type": "code",
   "execution_count": 10,
   "id": "5813eb35",
   "metadata": {
    "scrolled": true
   },
   "outputs": [
    {
     "data": {
      "text/plain": [
       "count    586601.000000\n",
       "mean        230.054333\n",
       "std         126.532822\n",
       "min           3.000000\n",
       "25%         175.000000\n",
       "50%         215.000000\n",
       "75%         264.000000\n",
       "max        5621.000000\n",
       "Name: duration_s, dtype: float64"
      ]
     },
     "execution_count": 10,
     "metadata": {},
     "output_type": "execute_result"
    }
   ],
   "source": [
    "df_no_na[\"duration_s\"] = round(df_no_na[\"duration_ms\"] / 1000)\n",
    "df_no_na[\"duration_s\"].describe()"
   ]
  },
  {
   "cell_type": "markdown",
   "id": "0a68eb7f",
   "metadata": {},
   "source": [
    "#### Duration in seconds (instead of miliseconds) ranges from 3 to 5621 seconds"
   ]
  },
  {
   "cell_type": "code",
   "execution_count": 11,
   "id": "e2f16b13",
   "metadata": {
    "scrolled": true
   },
   "outputs": [
    {
     "data": {
      "text/plain": [
       "count    586601.000000\n",
       "mean          0.563612\n",
       "std           0.166101\n",
       "min           0.000000\n",
       "25%           0.453000\n",
       "50%           0.577000\n",
       "75%           0.686000\n",
       "max           0.991000\n",
       "Name: danceability, dtype: float64"
      ]
     },
     "execution_count": 11,
     "metadata": {},
     "output_type": "execute_result"
    }
   ],
   "source": [
    "df_no_na[\"danceability\"].describe()"
   ]
  },
  {
   "cell_type": "markdown",
   "id": "77dff624",
   "metadata": {},
   "source": [
    "#### Danceability ranges from 0 to 0.991"
   ]
  },
  {
   "cell_type": "code",
   "execution_count": 12,
   "id": "7f33c9ac",
   "metadata": {},
   "outputs": [
    {
     "data": {
      "text/plain": [
       "count    586601.000000\n",
       "mean        118.467930\n",
       "std          29.762942\n",
       "min           0.000000\n",
       "25%          95.606000\n",
       "50%         117.387000\n",
       "75%         136.324000\n",
       "max         246.381000\n",
       "Name: tempo, dtype: float64"
      ]
     },
     "execution_count": 12,
     "metadata": {},
     "output_type": "execute_result"
    }
   ],
   "source": [
    "df_no_na[\"tempo\"].describe()"
   ]
  },
  {
   "cell_type": "markdown",
   "id": "2f9963f1",
   "metadata": {},
   "source": [
    "#### Tempo ranges from 0 to 246.381 "
   ]
  },
  {
   "cell_type": "markdown",
   "id": "7f1310ce",
   "metadata": {},
   "source": [
    "# Expectations"
   ]
  },
  {
   "cell_type": "markdown",
   "id": "24d9b1d9",
   "metadata": {},
   "source": [
    "- We expect danceability to be strongly positively correlated with popularity\n",
    "- The opposite probably goes for duration since today, most mainstream artists favor short hits\n",
    "- Release date probably has an influence, since older songs seem to die out bit by bit (though some unforgettable classics forever remain in our hearts)\n",
    "- Linking popularity to loudness and tempo is a bit more tricky. Their relationship is surely non-linear"
   ]
  },
  {
   "cell_type": "markdown",
   "id": "c781e80d",
   "metadata": {},
   "source": [
    "#### To make it easier for us lazy cunts, allow us to convert popularity to a dummy variable with 1 meaning popularity is above 80 and 0 otherwise"
   ]
  },
  {
   "cell_type": "code",
   "execution_count": 13,
   "id": "a8c9b700",
   "metadata": {},
   "outputs": [],
   "source": [
    "fake_series = pd.Series(range(len(df_no_na)))\n",
    "\n",
    "for i in range(len(df_no_na)):\n",
    "    if df_no_na[\"popularity\"][i] > 80:\n",
    "        fake_series[i] = 1\n",
    "    else:\n",
    "        fake_series[i] = 0"
   ]
  },
  {
   "cell_type": "code",
   "execution_count": 14,
   "id": "9252e69a",
   "metadata": {},
   "outputs": [],
   "source": [
    "df_no_na[\"dummy_pop\"] = fake_series"
   ]
  },
  {
   "cell_type": "markdown",
   "id": "41985e7e",
   "metadata": {},
   "source": [
    "### C) Song Profiles between Popular and Unpopular Music"
   ]
  },
  {
   "cell_type": "code",
   "execution_count": 15,
   "id": "96aa28ed",
   "metadata": {},
   "outputs": [],
   "source": [
    "df_pop = df_no_na[df_no_na[\"dummy_pop\"] == 1].reset_index().drop(columns=\"index\")\n",
    "df_unpop = df_no_na[df_no_na[\"dummy_pop\"] == 0].reset_index().drop(columns=\"index\")"
   ]
  },
  {
   "cell_type": "markdown",
   "id": "afd7c80d",
   "metadata": {},
   "source": [
    "## Loudness"
   ]
  },
  {
   "cell_type": "code",
   "execution_count": 16,
   "id": "0efca330",
   "metadata": {
    "scrolled": false
   },
   "outputs": [
    {
     "data": {
      "image/png": "[encoded data removed]",
      "text/plain": [
       "<Figure size 432x288 with 2 Axes>"
      ]
     },
     "metadata": {
      "needs_background": "light"
     },
     "output_type": "display_data"
    }
   ],
   "source": [
    "fig = plt.figure()\n",
    "\n",
    "subplot1 = fig.add_subplot(2, 1, 1)\n",
    "subplot1.plot(df_pop[\"loudness\"])\n",
    "#plt.ylim([-60, 5])\n",
    "plt.xlabel(\"index\")\n",
    "plt.ylabel(\"loudness\")\n",
    "plt.title(\"Popular\")\n",
    "plt.tick_params(\n",
    "    axis='x',          # changes apply to the x-axis\n",
    "    which='both',      # both major and minor ticks are affected\n",
    "    bottom=False,      # ticks along the bottom edge are off\n",
    "    top=False,         # ticks along the top edge are off\n",
    "    labelbottom=False  # labels along the bottom edge are off\n",
    ")\n",
    "\n",
    "\n",
    "subplot2=fig.add_subplot(2, 1, 2)\n",
    "subplot2.plot(df_unpop[\"loudness\"])\n",
    "#plt.ylim([-60, 5])\n",
    "plt.xlabel(\"index\")\n",
    "plt.ylabel(\"loudness\")\n",
    "plt.title(\"Unpopular\")\n",
    "plt.tick_params(\n",
    "    axis='x',          # changes apply to the x-axis\n",
    "    which='both',      # both major and minor ticks are affected\n",
    "    bottom=False,      # ticks along the bottom edge are off\n",
    "    top=False,         # ticks along the top edge are off\n",
    "    labelbottom=False  # labels along the bottom edge are off\n",
    ")\n",
    "\n",
    "\n",
    "plt.subplots_adjust(\n",
    "    hspace=0.5\n",
    ")"
   ]
  },
  {
   "cell_type": "code",
   "execution_count": 17,
   "id": "77bc14e7",
   "metadata": {
    "scrolled": true
   },
   "outputs": [
    {
     "data": {
      "text/plain": [
       "Text(0.5, 1.0, 'Popularity as a Function of Loudness')"
      ]
     },
     "execution_count": 17,
     "metadata": {},
     "output_type": "execute_result"
    },
    {
     "data": {
      "image/png": "[encoded data removed]",
      "text/plain": [
       "<Figure size 432x288 with 1 Axes>"
      ]
     },
     "metadata": {
      "needs_background": "light"
     },
     "output_type": "display_data"
    }
   ],
   "source": [
    "plt.scatter(\n",
    "    x=df_no_na[\"loudness\"],\n",
    "    y=df_no_na[\"popularity\"]\n",
    ")\n",
    "\n",
    "plt.xlabel(\"loudness\")\n",
    "plt.ylabel(\"popularity\")\n",
    "plt.title(\"Popularity as a Function of Loudness\")"
   ]
  },
  {
   "cell_type": "markdown",
   "id": "6a79760a",
   "metadata": {},
   "source": [
    "## Danceability"
   ]
  },
  {
   "cell_type": "code",
   "execution_count": 18,
   "id": "53590cf2",
   "metadata": {},
   "outputs": [
    {
     "data": {
      "image/png": "[encoded data removed]",
      "text/plain": [
       "<Figure size 432x288 with 2 Axes>"
      ]
     },
     "metadata": {
      "needs_background": "light"
     },
     "output_type": "display_data"
    }
   ],
   "source": [
    "fig = plt.figure()\n",
    "\n",
    "subplot1 = fig.add_subplot(2, 1, 1)\n",
    "subplot1.plot(df_pop[\"danceability\"])\n",
    "#plt.ylim([-60, 5])\n",
    "plt.xlabel(\"index\")\n",
    "plt.ylabel(\"danceability\")\n",
    "plt.title(\"Popular\")\n",
    "plt.tick_params(\n",
    "    axis='x',          # changes apply to the x-axis\n",
    "    which='both',      # both major and minor ticks are affected\n",
    "    bottom=False,      # ticks along the bottom edge are off\n",
    "    top=False,         # ticks along the top edge are off\n",
    "    labelbottom=False  # labels along the bottom edge are off\n",
    ")\n",
    "\n",
    "\n",
    "subplot2=fig.add_subplot(2, 1, 2)\n",
    "subplot2.plot(df_unpop[\"danceability\"])\n",
    "#plt.ylim([-60, 5])\n",
    "plt.xlabel(\"index\")\n",
    "plt.ylabel(\"danceability\")\n",
    "plt.title(\"Unpopular\")\n",
    "plt.tick_params(\n",
    "    axis='x',          # changes apply to the x-axis\n",
    "    which='both',      # both major and minor ticks are affected\n",
    "    bottom=False,      # ticks along the bottom edge are off\n",
    "    top=False,         # ticks along the top edge are off\n",
    "    labelbottom=False  # labels along the bottom edge are off\n",
    ")\n",
    "\n",
    "\n",
    "plt.subplots_adjust(\n",
    "    hspace=0.5\n",
    ")"
   ]
  },
  {
   "cell_type": "code",
   "execution_count": 19,
   "id": "35f4ee01",
   "metadata": {},
   "outputs": [
    {
     "data": {
      "text/plain": [
       "Text(0.5, 1.0, 'Popularity as a Function of Danceability')"
      ]
     },
     "execution_count": 19,
     "metadata": {},
     "output_type": "execute_result"
    },
    {
     "data": {
      "image/png": "[encoded data removed]",
      "text/plain": [
       "<Figure size 432x288 with 1 Axes>"
      ]
     },
     "metadata": {
      "needs_background": "light"
     },
     "output_type": "display_data"
    }
   ],
   "source": [
    "plt.scatter(\n",
    "    x=df_no_na[\"danceability\"],\n",
    "    y=df_no_na[\"popularity\"]\n",
    ")\n",
    "\n",
    "plt.xlabel(\"danceability\")\n",
    "plt.ylabel(\"popularity\")\n",
    "plt.title(\"Popularity as a Function of Danceability\")"
   ]
  },
  {
   "cell_type": "markdown",
   "id": "f8815f42",
   "metadata": {},
   "source": [
    "## Tempo "
   ]
  },
  {
   "cell_type": "code",
   "execution_count": 20,
   "id": "84eb7e72",
   "metadata": {
    "scrolled": true
   },
   "outputs": [
    {
     "data": {
      "image/png": "[encoded data removed]",
      "text/plain": [
       "<Figure size 432x288 with 2 Axes>"
      ]
     },
     "metadata": {
      "needs_background": "light"
     },
     "output_type": "display_data"
    }
   ],
   "source": [
    "fig = plt.figure()\n",
    "\n",
    "subplot1 = fig.add_subplot(2, 1, 1)\n",
    "subplot1.plot(df_pop[\"tempo\"])\n",
    "plt.xlabel(\"index\")\n",
    "plt.ylabel(\"tempo\")\n",
    "plt.title(\"Popular\")\n",
    "plt.tick_params(\n",
    "    axis='x',          # changes apply to the x-axis\n",
    "    which='both',      # both major and minor ticks are affected\n",
    "    bottom=False,      # ticks along the bottom edge are off\n",
    "    top=False,         # ticks along the top edge are off\n",
    "    labelbottom=False  # labels along the bottom edge are off\n",
    ")\n",
    "plt.ylim([0, 200])\n",
    "\n",
    "\n",
    "subplot2=fig.add_subplot(2, 1, 2)\n",
    "subplot2.plot(df_unpop[\"tempo\"])\n",
    "plt.xlabel(\"index\")\n",
    "plt.ylabel(\"tempo\")\n",
    "plt.title(\"Unpopular\")\n",
    "plt.tick_params(\n",
    "    axis='x',          # changes apply to the x-axis\n",
    "    which='both',      # both major and minor ticks are affected\n",
    "    bottom=False,      # ticks along the bottom edge are off\n",
    "    top=False,         # ticks along the top edge are off\n",
    "    labelbottom=False  # labels along the bottom edge are off\n",
    ")\n",
    "plt.ylim([0, 200])\n",
    "\n",
    "\n",
    "plt.subplots_adjust(\n",
    "    hspace=0.5\n",
    ")"
   ]
  },
  {
   "cell_type": "code",
   "execution_count": 22,
   "id": "df6565b6",
   "metadata": {
    "scrolled": true
   },
   "outputs": [
    {
     "data": {
      "text/plain": [
       "Text(0.5, 1.0, 'Popularity as a Function of Tempo')"
      ]
     },
     "execution_count": 22,
     "metadata": {},
     "output_type": "execute_result"
    },
    {
     "data": {
      "image/png": "[encoded data removed]",
      "text/plain": [
       "<Figure size 432x288 with 1 Axes>"
      ]
     },
     "metadata": {
      "needs_background": "light"
     },
     "output_type": "display_data"
    }
   ],
   "source": [
    "plt.scatter(\n",
    "    x=df_no_na[\"tempo\"],\n",
    "    y=df_no_na[\"popularity\"]\n",
    ")\n",
    "\n",
    "plt.xlabel(\"tempo\")\n",
    "plt.ylabel(\"popularity\")\n",
    "plt.title(\"Popularity as a Function of Tempo\")"
   ]
  },
  {
   "cell_type": "markdown",
   "id": "92bbfc0b",
   "metadata": {},
   "source": [
    "## Duration"
   ]
  },
  {
   "cell_type": "code",
   "execution_count": 21,
   "id": "4a44054b",
   "metadata": {
    "scrolled": false
   },
   "outputs": [
    {
     "data": {
      "image/png": "[encoded data removed]",
      "text/plain": [
       "<Figure size 432x288 with 2 Axes>"
      ]
     },
     "metadata": {
      "needs_background": "light"
     },
     "output_type": "display_data"
    }
   ],
   "source": [
    "fig = plt.figure()\n",
    "\n",
    "subplot1 = fig.add_subplot(2, 1, 1)\n",
    "subplot1.plot(df_pop[\"duration_s\"])\n",
    "plt.xlabel(\"index\")\n",
    "plt.ylabel(\"duration_s\")\n",
    "plt.title(\"Popular\")\n",
    "plt.tick_params(\n",
    "    axis='x',          # changes apply to the x-axis\n",
    "    which='both',      # both major and minor ticks are affected\n",
    "    bottom=False,      # ticks along the bottom edge are off\n",
    "    top=False,         # ticks along the top edge are off\n",
    "    labelbottom=False  # labels along the bottom edge are off\n",
    ")\n",
    "plt.ylim([0, 4500])\n",
    "\n",
    "\n",
    "subplot2=fig.add_subplot(2, 1, 2)\n",
    "subplot2.plot(df_unpop[\"duration_s\"])\n",
    "plt.xlabel(\"index\")\n",
    "plt.ylabel(\"duration_s\")\n",
    "plt.title(\"Unpopular\")\n",
    "plt.tick_params(\n",
    "    axis='x',          # changes apply to the x-axis\n",
    "    which='both',      # both major and minor ticks are affected\n",
    "    bottom=False,      # ticks along the bottom edge are off\n",
    "    top=False,         # ticks along the top edge are off\n",
    "    labelbottom=False  # labels along the bottom edge are off\n",
    ")\n",
    "plt.ylim([0, 4500])\n",
    "\n",
    "\n",
    "plt.subplots_adjust(\n",
    "    hspace=0.5\n",
    ")"
   ]
  },
  {
   "cell_type": "code",
   "execution_count": 24,
   "id": "0d1f8f54",
   "metadata": {
    "scrolled": false
   },
   "outputs": [
    {
     "data": {
      "text/plain": [
       "Text(0.5, 1.0, 'Popularity as a Function of Duration in Seconds')"
      ]
     },
     "execution_count": 24,
     "metadata": {},
     "output_type": "execute_result"
    },
    {
     "data": {
      "image/png": "[encoded data removed]",
      "text/plain": [
       "<Figure size 432x288 with 1 Axes>"
      ]
     },
     "metadata": {
      "needs_background": "light"
     },
     "output_type": "display_data"
    }
   ],
   "source": [
    "plt.scatter(\n",
    "    x=df_no_na[\"duration_s\"],\n",
    "    y=df_no_na[\"popularity\"]\n",
    ")\n",
    "\n",
    "plt.xlabel(\"duration_s\")\n",
    "plt.ylabel(\"popularity\")\n",
    "plt.title(\"Popularity as a Function of Duration in Seconds\")"
   ]
  },
  {
   "cell_type": "code",
   "execution_count": null,
   "id": "335f6710",
   "metadata": {},
   "outputs": [],
   "source": []
  }
 ],
 "metadata": {
  "kernelspec": {
   "display_name": "Python 3 (ipykernel)",
   "language": "python",
   "name": "python3"
  },
  "language_info": {
   "codemirror_mode": {
    "name": "ipython",
    "version": 3
   },
   "file_extension": ".py",
   "mimetype": "text/x-python",
   "name": "python",
   "nbconvert_exporter": "python",
   "pygments_lexer": "ipython3",
   "version": "3.9.7"
  }
 },
 "nbformat": 4,
 "nbformat_minor": 5
}
